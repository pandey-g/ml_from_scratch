{
  "cells": [
    {
      "cell_type": "markdown",
      "metadata": {},
      "source": [
        "# Algorithm Notebook Template\n",
        "Replace `YourAlgorithmScratch` with the actual class from your implementation."
      ]
    },
    {
      "cell_type": "code",
      "metadata": {},
      "execution_count": null,
      "outputs": [],
      "source": [
        "import numpy as np\n",
        "# Example:\n",
        "# from linear_regression.linear_regression import LinearRegressionScratch as Model\n",
        "\n",
        "# X = ...\n",
        "# y = ...\n",
        "# model = Model()\n",
        "# model.fit(X, y)\n",
        "# preds = model.predict(X)"
      ]
    }
  ],
  "metadata": {
    "kernelspec": {
      "display_name": "Python 3",
      "language": "python",
      "name": "python3"
    },
    "language_info": {
      "name": "python",
      "version": "3.x"
    }
  },
  "nbformat": 4,
  "nbformat_minor": 2
}